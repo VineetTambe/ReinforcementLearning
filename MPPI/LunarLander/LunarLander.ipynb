{
  "nbformat": 4,
  "nbformat_minor": 0,
  "metadata": {
    "colab": {
      "name": "LunarLander.ipynb",
      "provenance": [],
      "collapsed_sections": []
    },
    "kernelspec": {
      "name": "python3",
      "display_name": "Python 3"
    },
    "language_info": {
      "name": "python"
    }
  },
  "cells": [
    {
      "cell_type": "code",
      "metadata": {
        "id": "Q4OSOo7XDZRF"
      },
      "source": [
        "!apt-get install x11-utils > /dev/null 2>&1 \n",
        "!pip install pyglet > /dev/null 2>&1 \n",
        "!apt-get install -y xvfb python-opengl > /dev/null 2>&1\n",
        "!pip install gym pyvirtualdisplay > /dev/null 2>&1\n"
      ],
      "execution_count": 1,
      "outputs": []
    },
    {
      "cell_type": "code",
      "metadata": {
        "colab": {
          "base_uri": "https://localhost:8080/"
        },
        "id": "0xlkuv18FcHF",
        "outputId": "4f2a19b4-629b-4491-de80-b16d28447951"
      },
      "source": [
        "!pip3 install box2d-py"
      ],
      "execution_count": 2,
      "outputs": [
        {
          "output_type": "stream",
          "name": "stdout",
          "text": [
            "Requirement already satisfied: box2d-py in /usr/local/lib/python3.7/dist-packages (2.3.8)\n"
          ]
        }
      ]
    },
    {
      "cell_type": "code",
      "metadata": {
        "id": "ozP9ihV4EA3D"
      },
      "source": [
        "import gym\n",
        "import numpy as np\n",
        "import matplotlib.pyplot as plt\n",
        "from IPython import display as ipythondisplay\n"
      ],
      "execution_count": 3,
      "outputs": []
    },
    {
      "cell_type": "code",
      "metadata": {
        "colab": {
          "base_uri": "https://localhost:8080/"
        },
        "id": "XCqu8r2uEUOw",
        "outputId": "50bbc251-4f59-4416-c96f-baf20118d36a"
      },
      "source": [
        "from pyvirtualdisplay import Display\n",
        "display = Display(visible=0, size=(400, 300))\n",
        "display.start()"
      ],
      "execution_count": 4,
      "outputs": [
        {
          "output_type": "execute_result",
          "data": {
            "text/plain": [
              "<pyvirtualdisplay.display.Display at 0x7f1e26352c90>"
            ]
          },
          "metadata": {},
          "execution_count": 4
        }
      ]
    },
    {
      "cell_type": "code",
      "metadata": {
        "id": "w5dxhqztEUyG"
      },
      "source": [
        "import gym\n",
        "import numpy as np\n",
        "from copy import deepcopy\n",
        "\n",
        "\n",
        "class LunarLanderMPPI():\n",
        "    \"\"\"This is an implementation of the MPPI Controller (as per the paper)\n",
        "    extending the controller to a LunarLander\n",
        "    terminology in this code is from: https://www.youtube.com/watch?v=19QLyMuQ_BE&ab_channel=NeuromorphicWorkshopTelluride\n",
        "    \"\"\"\n",
        "\n",
        "    def __init__(self, env, n, K, T, U, uinit=3, lambda_=1, noise_mu=0, noise_sigma=1):\n",
        "        # do some initialization here\n",
        "        self.n = n\n",
        "        self.K = K\n",
        "        self.T = T\n",
        "        self.U = U\n",
        "        self.uinit = uinit\n",
        "        self.noise_mu = noise_mu\n",
        "        self.noise_sigma = noise_sigma\n",
        "        self.noise = np.random.normal(loc=self.noise_mu, scale=self.noise_sigma,\n",
        "                                      size=(self.K, self.T))\n",
        "        self.lambda_ = lambda_\n",
        "        self.env = env\n",
        "        self.env.reset()\n",
        "        self.S = np.zeros(shape=self.K)\n",
        "        self.beta = 0\n",
        "        self.eta = 0\n",
        "        self.omega = 0\n",
        "        self.last_reward = 0\n",
        "\n",
        "    def simulate_rollouts(self, k, copy_env):\n",
        "        # self.env.env.state = self.x_init\n",
        "        for t in range(0, self.T):\n",
        "            rollout_action_t = int(self.U[t] + self.noise[k, t])\n",
        "            if rollout_action_t<0 or rollout_action_t>3:\n",
        "              continue\n",
        "            _, reward, _, _ = copy_env.step(rollout_action_t)\n",
        "            # copy_env.render()\n",
        "            self.S[k] = self.S[k] - reward\n",
        "        # copy_env.close()\n",
        "\n",
        "    def calcBeta(self):\n",
        "        self.beta = np.min(self.S)\n",
        "\n",
        "    def calcEta(self):\n",
        "        self.eta = np.sum(np.exp((-1.0 / self.lambda_) * (self.S - self.beta)))\n",
        "\n",
        "    def calcOmega(self):\n",
        "        self.omega = (1.0 / self.eta) * (np.exp((-1.0 / self.lambda_) * (self.S - self.beta)))\n",
        "\n",
        "    def control(self):\n",
        "        for _ in range(0, self.n):\n",
        "            # simulation loop\n",
        "            for k in range(0, self.K):\n",
        "                temp = deepcopy(self.env)\n",
        "                self.simulate_rollouts(k, temp)\n",
        "\n",
        "            # from the above sampled random trajectories of control calculate the best traj\n",
        "            self.calcBeta()\n",
        "            self.calcEta()\n",
        "            self.calcOmega()\n",
        "            \n",
        "            self.U[:] += [ int(np.sum(self.omega * self.noise[:, t])) for t in range(self.T)]\n",
        "            np.clip(self.U, 0, 3)\n",
        "            \n",
        "            _, r, _, _ = self.env.step(int(self.U[0]))\n",
        "            \n",
        "            self.last_reward += r\n",
        "            \n",
        "            print(\"action taken: \" + str(int(self.U[0])) + \" reward received: \" + str(r))\n",
        "            \n",
        "            screen = env.render(mode='rgb_array')\n",
        "            plt.imshow(screen)\n",
        "            ipythondisplay.clear_output(wait=True)\n",
        "            ipythondisplay.display(plt.gcf())\n",
        "\n",
        "            self.U = np.roll(self.U, -1)  # shift all elements to the left\n",
        "            self.U[-1] = self.uinit\n",
        "            self.S[:] = 0\n",
        "\n",
        "            if abs(self.last_reward - r) < 0.000015:\n",
        "                self.last_reward = r\n",
        "                self.env.reset()\n",
        "            elif r == -100:\n",
        "                self.last_reward = 0\n",
        "                self.env.reset()\n"
      ],
      "execution_count": 5,
      "outputs": []
    },
    {
      "cell_type": "code",
      "metadata": {
        "colab": {
          "base_uri": "https://localhost:8080/",
          "height": 286
        },
        "id": "knNqMM4hEbDO",
        "outputId": "d52551c0-dedb-42e9-9066-2e27b8e322e5"
      },
      "source": [
        "# ENV_NAME = \"BipedalWalker-v3\"\n",
        "ENV_NAME = \"LunarLander-v2\"\n",
        "\n",
        "# TIMESTEPS = 20  # T\n",
        "# N_SAMPLES = 1000  # K\n",
        "\n",
        "TIMESTEPS = 2  # T\n",
        "N_SAMPLES = 50  # K\n",
        "\n",
        "ACTION_LOW = 0\n",
        "ACTION_HIGH = 3\n",
        "\n",
        "noise_mu = 0\n",
        "noise_sigma = 1\n",
        "lambda_ = 1\n",
        "iter = 1000\n",
        "\n",
        "env = gym.make(ENV_NAME)\n",
        "# env = gym.make(\"BipedalWalker-v3\")\n",
        "U = np.random.randint(low=ACTION_LOW, high=ACTION_HIGH, size=TIMESTEPS)\n",
        "\n",
        "lunar_mppi_gym = LunarLanderMPPI(env=env, n=iter, K=N_SAMPLES, T=TIMESTEPS, U=U, lambda_=lambda_, noise_mu=noise_mu,\n",
        "                                noise_sigma=noise_sigma, uinit=0)\n",
        "lunar_mppi_gym.control()"
      ],
      "execution_count": null,
      "outputs": [
        {
          "output_type": "display_data",
          "data": {
            "image/png": "[encoded data removed]",
            "text/plain": [
              "<Figure size 432x288 with 1 Axes>"
            ]
          },
          "metadata": {}
        }
      ]
    },
    {
      "cell_type": "code",
      "metadata": {
        "id": "33OOUjFIFTNp"
      },
      "source": [
        ""
      ],
      "execution_count": null,
      "outputs": []
    }
  ]
}